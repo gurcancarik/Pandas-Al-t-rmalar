{
 "cells": [
  {
   "cell_type": "code",
   "execution_count": 58,
   "metadata": {},
   "outputs": [],
   "source": [
    "import numpy as np\n",
    "import pandas as pd\n",
    "import seaborn as sns"
   ]
  },
  {
   "cell_type": "code",
   "execution_count": 59,
   "metadata": {},
   "outputs": [],
   "source": [
    "#persona.csv dosyasını okutunuz ve veri seti ile ilgili genel bilgileri gösteriniz."
   ]
  },
  {
   "cell_type": "code",
   "execution_count": 60,
   "metadata": {},
   "outputs": [
    {
     "data": {
      "text/html": [
       "<div>\n",
       "<style scoped>\n",
       "    .dataframe tbody tr th:only-of-type {\n",
       "        vertical-align: middle;\n",
       "    }\n",
       "\n",
       "    .dataframe tbody tr th {\n",
       "        vertical-align: top;\n",
       "    }\n",
       "\n",
       "    .dataframe thead th {\n",
       "        text-align: right;\n",
       "    }\n",
       "</style>\n",
       "<table border=\"1\" class=\"dataframe\">\n",
       "  <thead>\n",
       "    <tr style=\"text-align: right;\">\n",
       "      <th></th>\n",
       "      <th>PRICE</th>\n",
       "      <th>SOURCE</th>\n",
       "      <th>SEX</th>\n",
       "      <th>COUNTRY</th>\n",
       "      <th>AGE</th>\n",
       "    </tr>\n",
       "  </thead>\n",
       "  <tbody>\n",
       "    <tr>\n",
       "      <th>0</th>\n",
       "      <td>39</td>\n",
       "      <td>android</td>\n",
       "      <td>male</td>\n",
       "      <td>bra</td>\n",
       "      <td>17</td>\n",
       "    </tr>\n",
       "    <tr>\n",
       "      <th>1</th>\n",
       "      <td>39</td>\n",
       "      <td>android</td>\n",
       "      <td>male</td>\n",
       "      <td>bra</td>\n",
       "      <td>17</td>\n",
       "    </tr>\n",
       "    <tr>\n",
       "      <th>2</th>\n",
       "      <td>49</td>\n",
       "      <td>android</td>\n",
       "      <td>male</td>\n",
       "      <td>bra</td>\n",
       "      <td>17</td>\n",
       "    </tr>\n",
       "    <tr>\n",
       "      <th>3</th>\n",
       "      <td>29</td>\n",
       "      <td>android</td>\n",
       "      <td>male</td>\n",
       "      <td>tur</td>\n",
       "      <td>17</td>\n",
       "    </tr>\n",
       "    <tr>\n",
       "      <th>4</th>\n",
       "      <td>49</td>\n",
       "      <td>android</td>\n",
       "      <td>male</td>\n",
       "      <td>tur</td>\n",
       "      <td>17</td>\n",
       "    </tr>\n",
       "  </tbody>\n",
       "</table>\n",
       "</div>"
      ],
      "text/plain": [
       "   PRICE   SOURCE   SEX COUNTRY  AGE\n",
       "0     39  android  male     bra   17\n",
       "1     39  android  male     bra   17\n",
       "2     49  android  male     bra   17\n",
       "3     29  android  male     tur   17\n",
       "4     49  android  male     tur   17"
      ]
     },
     "execution_count": 60,
     "metadata": {},
     "output_type": "execute_result"
    }
   ],
   "source": [
    "df=pd.read_csv('persona.csv')\n",
    "df.head()"
   ]
  },
  {
   "cell_type": "code",
   "execution_count": 61,
   "metadata": {},
   "outputs": [
    {
     "name": "stdout",
     "output_type": "stream",
     "text": [
      "##################### Shape #####################\n",
      "(5000, 5)\n",
      "##################### Types #####################\n",
      "PRICE       int64\n",
      "SOURCE     object\n",
      "SEX        object\n",
      "COUNTRY    object\n",
      "AGE         int64\n",
      "dtype: object\n",
      "##################### Head #####################\n",
      "   PRICE   SOURCE   SEX COUNTRY  AGE\n",
      "0     39  android  male     bra   17\n",
      "1     39  android  male     bra   17\n",
      "2     49  android  male     bra   17\n",
      "3     29  android  male     tur   17\n",
      "4     49  android  male     tur   17\n",
      "##################### Tail #####################\n",
      "      PRICE   SOURCE     SEX COUNTRY  AGE\n",
      "4995     29  android  female     bra   31\n",
      "4996     29  android  female     bra   31\n",
      "4997     29  android  female     bra   31\n",
      "4998     39  android  female     bra   31\n",
      "4999     29  android  female     bra   31\n",
      "##################### NA #####################\n",
      "PRICE      0\n",
      "SOURCE     0\n",
      "SEX        0\n",
      "COUNTRY    0\n",
      "AGE        0\n",
      "dtype: int64\n",
      "##################### Quantiles #####################\n",
      "        count     mean        std   min    0%    5%   50%   95%   99%  100%  \\\n",
      "PRICE  5000.0  34.1320  12.464897   9.0   9.0  19.0  39.0  49.0  59.0  59.0   \n",
      "AGE    5000.0  23.5814   8.995908  15.0  15.0  15.0  21.0  43.0  53.0  66.0   \n",
      "\n",
      "        max  \n",
      "PRICE  59.0  \n",
      "AGE    66.0  \n"
     ]
    }
   ],
   "source": [
    "def check_df(dataframe, head=5):\n",
    "    print(\"##################### Shape #####################\")\n",
    "    print(dataframe.shape)\n",
    "    print(\"##################### Types #####################\")\n",
    "    print(dataframe.dtypes)\n",
    "    print(\"##################### Head #####################\")\n",
    "    print(dataframe.head(head))\n",
    "    print(\"##################### Tail #####################\")\n",
    "    print(dataframe.tail(head))\n",
    "    print(\"##################### NA #####################\")\n",
    "    print(dataframe.isnull().sum())\n",
    "    print(\"##################### Quantiles #####################\")\n",
    "    print(dataframe.describe([0, 0.05, 0.50, 0.95, 0.99, 1]).T)\n",
    "\n",
    "\n",
    "check_df(df)"
   ]
  },
  {
   "cell_type": "code",
   "execution_count": 62,
   "metadata": {},
   "outputs": [],
   "source": [
    "# Kaç unique SOURCE vardır? Frekansları nedir?"
   ]
  },
  {
   "cell_type": "code",
   "execution_count": 63,
   "metadata": {},
   "outputs": [
    {
     "data": {
      "text/plain": [
       "2"
      ]
     },
     "execution_count": 63,
     "metadata": {},
     "output_type": "execute_result"
    }
   ],
   "source": [
    "df['SOURCE'].nunique()"
   ]
  },
  {
   "cell_type": "code",
   "execution_count": 64,
   "metadata": {},
   "outputs": [
    {
     "data": {
      "text/plain": [
       "SOURCE\n",
       "android    2974\n",
       "ios        2026\n",
       "Name: count, dtype: int64"
      ]
     },
     "execution_count": 64,
     "metadata": {},
     "output_type": "execute_result"
    }
   ],
   "source": [
    "df['SOURCE'].value_counts()"
   ]
  },
  {
   "cell_type": "code",
   "execution_count": 65,
   "metadata": {},
   "outputs": [],
   "source": [
    "#Kaç unique PRICE vardır?"
   ]
  },
  {
   "cell_type": "code",
   "execution_count": 66,
   "metadata": {},
   "outputs": [
    {
     "data": {
      "text/plain": [
       "6"
      ]
     },
     "execution_count": 66,
     "metadata": {},
     "output_type": "execute_result"
    }
   ],
   "source": [
    "df['PRICE'].nunique()"
   ]
  },
  {
   "cell_type": "code",
   "execution_count": 67,
   "metadata": {},
   "outputs": [
    {
     "data": {
      "text/plain": [
       "array([39, 49, 29, 19, 59,  9], dtype=int64)"
      ]
     },
     "execution_count": 67,
     "metadata": {},
     "output_type": "execute_result"
    }
   ],
   "source": [
    "df[\"PRICE\"].unique()"
   ]
  },
  {
   "cell_type": "code",
   "execution_count": 68,
   "metadata": {},
   "outputs": [],
   "source": [
    "# Hangi PRICE'dan kaçar tane satış gerçekleşmiş?"
   ]
  },
  {
   "cell_type": "code",
   "execution_count": 69,
   "metadata": {},
   "outputs": [
    {
     "data": {
      "text/plain": [
       "PRICE\n",
       "29    1305\n",
       "39    1260\n",
       "49    1031\n",
       "19     992\n",
       "59     212\n",
       "9      200\n",
       "Name: count, dtype: int64"
      ]
     },
     "execution_count": 69,
     "metadata": {},
     "output_type": "execute_result"
    }
   ],
   "source": [
    "df['PRICE'].value_counts()"
   ]
  },
  {
   "cell_type": "code",
   "execution_count": 70,
   "metadata": {},
   "outputs": [
    {
     "data": {
      "text/plain": [
       "PRICE\n",
       "9      200\n",
       "19     992\n",
       "29    1305\n",
       "39    1260\n",
       "49    1031\n",
       "59     212\n",
       "dtype: int64"
      ]
     },
     "execution_count": 70,
     "metadata": {},
     "output_type": "execute_result"
    }
   ],
   "source": [
    "pd.pivot_table(df,index='PRICE',aggfunc='size')"
   ]
  },
  {
   "cell_type": "code",
   "execution_count": 71,
   "metadata": {},
   "outputs": [
    {
     "data": {
      "text/plain": [
       "PRICE\n",
       "9      200\n",
       "19     992\n",
       "29    1305\n",
       "39    1260\n",
       "49    1031\n",
       "59     212\n",
       "dtype: int64"
      ]
     },
     "execution_count": 71,
     "metadata": {},
     "output_type": "execute_result"
    }
   ],
   "source": [
    "df.groupby('PRICE').size()"
   ]
  },
  {
   "cell_type": "code",
   "execution_count": 72,
   "metadata": {},
   "outputs": [],
   "source": [
    "# Hangi ülkeden kaçar tane satış olmuş?"
   ]
  },
  {
   "cell_type": "code",
   "execution_count": 73,
   "metadata": {},
   "outputs": [
    {
     "data": {
      "text/plain": [
       "COUNTRY\n",
       "usa    2065\n",
       "bra    1496\n",
       "deu     455\n",
       "tur     451\n",
       "fra     303\n",
       "can     230\n",
       "Name: count, dtype: int64"
      ]
     },
     "execution_count": 73,
     "metadata": {},
     "output_type": "execute_result"
    }
   ],
   "source": [
    "df['COUNTRY'].value_counts()"
   ]
  },
  {
   "cell_type": "code",
   "execution_count": 74,
   "metadata": {},
   "outputs": [
    {
     "data": {
      "text/html": [
       "<div>\n",
       "<style scoped>\n",
       "    .dataframe tbody tr th:only-of-type {\n",
       "        vertical-align: middle;\n",
       "    }\n",
       "\n",
       "    .dataframe tbody tr th {\n",
       "        vertical-align: top;\n",
       "    }\n",
       "\n",
       "    .dataframe thead th {\n",
       "        text-align: right;\n",
       "    }\n",
       "</style>\n",
       "<table border=\"1\" class=\"dataframe\">\n",
       "  <thead>\n",
       "    <tr style=\"text-align: right;\">\n",
       "      <th></th>\n",
       "      <th>PRICE</th>\n",
       "    </tr>\n",
       "    <tr>\n",
       "      <th>COUNTRY</th>\n",
       "      <th></th>\n",
       "    </tr>\n",
       "  </thead>\n",
       "  <tbody>\n",
       "    <tr>\n",
       "      <th>bra</th>\n",
       "      <td>1496</td>\n",
       "    </tr>\n",
       "    <tr>\n",
       "      <th>can</th>\n",
       "      <td>230</td>\n",
       "    </tr>\n",
       "    <tr>\n",
       "      <th>deu</th>\n",
       "      <td>455</td>\n",
       "    </tr>\n",
       "    <tr>\n",
       "      <th>fra</th>\n",
       "      <td>303</td>\n",
       "    </tr>\n",
       "    <tr>\n",
       "      <th>tur</th>\n",
       "      <td>451</td>\n",
       "    </tr>\n",
       "    <tr>\n",
       "      <th>usa</th>\n",
       "      <td>2065</td>\n",
       "    </tr>\n",
       "  </tbody>\n",
       "</table>\n",
       "</div>"
      ],
      "text/plain": [
       "         PRICE\n",
       "COUNTRY       \n",
       "bra       1496\n",
       "can        230\n",
       "deu        455\n",
       "fra        303\n",
       "tur        451\n",
       "usa       2065"
      ]
     },
     "execution_count": 74,
     "metadata": {},
     "output_type": "execute_result"
    }
   ],
   "source": [
    "df.pivot_table(values=['PRICE'],index=['COUNTRY'],aggfunc='count')"
   ]
  },
  {
   "cell_type": "code",
   "execution_count": 75,
   "metadata": {},
   "outputs": [
    {
     "data": {
      "text/plain": [
       "COUNTRY\n",
       "bra    1496\n",
       "can     230\n",
       "deu     455\n",
       "fra     303\n",
       "tur     451\n",
       "usa    2065\n",
       "dtype: int64"
      ]
     },
     "execution_count": 75,
     "metadata": {},
     "output_type": "execute_result"
    }
   ],
   "source": [
    "df.groupby('COUNTRY').size()"
   ]
  },
  {
   "cell_type": "code",
   "execution_count": 76,
   "metadata": {},
   "outputs": [],
   "source": [
    "# Ülkelere göre satışlardan toplam ne kadar kazanılmış?"
   ]
  },
  {
   "cell_type": "code",
   "execution_count": 77,
   "metadata": {},
   "outputs": [
    {
     "data": {
      "text/plain": [
       "COUNTRY\n",
       "bra    51354\n",
       "can     7730\n",
       "deu    15485\n",
       "fra    10177\n",
       "tur    15689\n",
       "usa    70225\n",
       "Name: PRICE, dtype: int64"
      ]
     },
     "execution_count": 77,
     "metadata": {},
     "output_type": "execute_result"
    }
   ],
   "source": [
    "df.groupby('COUNTRY')['PRICE'].sum()"
   ]
  },
  {
   "cell_type": "code",
   "execution_count": 78,
   "metadata": {},
   "outputs": [
    {
     "data": {
      "text/html": [
       "<div>\n",
       "<style scoped>\n",
       "    .dataframe tbody tr th:only-of-type {\n",
       "        vertical-align: middle;\n",
       "    }\n",
       "\n",
       "    .dataframe tbody tr th {\n",
       "        vertical-align: top;\n",
       "    }\n",
       "\n",
       "    .dataframe thead th {\n",
       "        text-align: right;\n",
       "    }\n",
       "</style>\n",
       "<table border=\"1\" class=\"dataframe\">\n",
       "  <thead>\n",
       "    <tr style=\"text-align: right;\">\n",
       "      <th></th>\n",
       "      <th>sum</th>\n",
       "    </tr>\n",
       "    <tr>\n",
       "      <th>COUNTRY</th>\n",
       "      <th></th>\n",
       "    </tr>\n",
       "  </thead>\n",
       "  <tbody>\n",
       "    <tr>\n",
       "      <th>bra</th>\n",
       "      <td>51354</td>\n",
       "    </tr>\n",
       "    <tr>\n",
       "      <th>can</th>\n",
       "      <td>7730</td>\n",
       "    </tr>\n",
       "    <tr>\n",
       "      <th>deu</th>\n",
       "      <td>15485</td>\n",
       "    </tr>\n",
       "    <tr>\n",
       "      <th>fra</th>\n",
       "      <td>10177</td>\n",
       "    </tr>\n",
       "    <tr>\n",
       "      <th>tur</th>\n",
       "      <td>15689</td>\n",
       "    </tr>\n",
       "    <tr>\n",
       "      <th>usa</th>\n",
       "      <td>70225</td>\n",
       "    </tr>\n",
       "  </tbody>\n",
       "</table>\n",
       "</div>"
      ],
      "text/plain": [
       "           sum\n",
       "COUNTRY       \n",
       "bra      51354\n",
       "can       7730\n",
       "deu      15485\n",
       "fra      10177\n",
       "tur      15689\n",
       "usa      70225"
      ]
     },
     "execution_count": 78,
     "metadata": {},
     "output_type": "execute_result"
    }
   ],
   "source": [
    "df.groupby('COUNTRY')['PRICE'].agg({'sum'})"
   ]
  },
  {
   "cell_type": "code",
   "execution_count": 79,
   "metadata": {},
   "outputs": [
    {
     "data": {
      "text/html": [
       "<div>\n",
       "<style scoped>\n",
       "    .dataframe tbody tr th:only-of-type {\n",
       "        vertical-align: middle;\n",
       "    }\n",
       "\n",
       "    .dataframe tbody tr th {\n",
       "        vertical-align: top;\n",
       "    }\n",
       "\n",
       "    .dataframe thead th {\n",
       "        text-align: right;\n",
       "    }\n",
       "</style>\n",
       "<table border=\"1\" class=\"dataframe\">\n",
       "  <thead>\n",
       "    <tr style=\"text-align: right;\">\n",
       "      <th></th>\n",
       "      <th>PRICE</th>\n",
       "    </tr>\n",
       "    <tr>\n",
       "      <th>COUNTRY</th>\n",
       "      <th></th>\n",
       "    </tr>\n",
       "  </thead>\n",
       "  <tbody>\n",
       "    <tr>\n",
       "      <th>bra</th>\n",
       "      <td>51354</td>\n",
       "    </tr>\n",
       "    <tr>\n",
       "      <th>can</th>\n",
       "      <td>7730</td>\n",
       "    </tr>\n",
       "    <tr>\n",
       "      <th>deu</th>\n",
       "      <td>15485</td>\n",
       "    </tr>\n",
       "    <tr>\n",
       "      <th>fra</th>\n",
       "      <td>10177</td>\n",
       "    </tr>\n",
       "    <tr>\n",
       "      <th>tur</th>\n",
       "      <td>15689</td>\n",
       "    </tr>\n",
       "    <tr>\n",
       "      <th>usa</th>\n",
       "      <td>70225</td>\n",
       "    </tr>\n",
       "  </tbody>\n",
       "</table>\n",
       "</div>"
      ],
      "text/plain": [
       "         PRICE\n",
       "COUNTRY       \n",
       "bra      51354\n",
       "can       7730\n",
       "deu      15485\n",
       "fra      10177\n",
       "tur      15689\n",
       "usa      70225"
      ]
     },
     "execution_count": 79,
     "metadata": {},
     "output_type": "execute_result"
    }
   ],
   "source": [
    "df.groupby('COUNTRY').agg({'PRICE':'sum'})"
   ]
  },
  {
   "cell_type": "code",
   "execution_count": 80,
   "metadata": {},
   "outputs": [
    {
     "data": {
      "text/html": [
       "<div>\n",
       "<style scoped>\n",
       "    .dataframe tbody tr th:only-of-type {\n",
       "        vertical-align: middle;\n",
       "    }\n",
       "\n",
       "    .dataframe tbody tr th {\n",
       "        vertical-align: top;\n",
       "    }\n",
       "\n",
       "    .dataframe thead th {\n",
       "        text-align: right;\n",
       "    }\n",
       "</style>\n",
       "<table border=\"1\" class=\"dataframe\">\n",
       "  <thead>\n",
       "    <tr style=\"text-align: right;\">\n",
       "      <th></th>\n",
       "      <th>PRICE</th>\n",
       "    </tr>\n",
       "    <tr>\n",
       "      <th>COUNTRY</th>\n",
       "      <th></th>\n",
       "    </tr>\n",
       "  </thead>\n",
       "  <tbody>\n",
       "    <tr>\n",
       "      <th>bra</th>\n",
       "      <td>51354</td>\n",
       "    </tr>\n",
       "    <tr>\n",
       "      <th>can</th>\n",
       "      <td>7730</td>\n",
       "    </tr>\n",
       "    <tr>\n",
       "      <th>deu</th>\n",
       "      <td>15485</td>\n",
       "    </tr>\n",
       "    <tr>\n",
       "      <th>fra</th>\n",
       "      <td>10177</td>\n",
       "    </tr>\n",
       "    <tr>\n",
       "      <th>tur</th>\n",
       "      <td>15689</td>\n",
       "    </tr>\n",
       "    <tr>\n",
       "      <th>usa</th>\n",
       "      <td>70225</td>\n",
       "    </tr>\n",
       "  </tbody>\n",
       "</table>\n",
       "</div>"
      ],
      "text/plain": [
       "         PRICE\n",
       "COUNTRY       \n",
       "bra      51354\n",
       "can       7730\n",
       "deu      15485\n",
       "fra      10177\n",
       "tur      15689\n",
       "usa      70225"
      ]
     },
     "execution_count": 80,
     "metadata": {},
     "output_type": "execute_result"
    }
   ],
   "source": [
    "df.pivot_table(values='PRICE',index='COUNTRY',aggfunc='sum')"
   ]
  },
  {
   "cell_type": "code",
   "execution_count": 81,
   "metadata": {},
   "outputs": [],
   "source": [
    "# SOURCE türlerine göre satış sayıları nedir?"
   ]
  },
  {
   "cell_type": "code",
   "execution_count": 82,
   "metadata": {},
   "outputs": [
    {
     "data": {
      "text/html": [
       "<div>\n",
       "<style scoped>\n",
       "    .dataframe tbody tr th:only-of-type {\n",
       "        vertical-align: middle;\n",
       "    }\n",
       "\n",
       "    .dataframe tbody tr th {\n",
       "        vertical-align: top;\n",
       "    }\n",
       "\n",
       "    .dataframe thead th {\n",
       "        text-align: right;\n",
       "    }\n",
       "</style>\n",
       "<table border=\"1\" class=\"dataframe\">\n",
       "  <thead>\n",
       "    <tr style=\"text-align: right;\">\n",
       "      <th></th>\n",
       "      <th>PRICE</th>\n",
       "    </tr>\n",
       "    <tr>\n",
       "      <th>SOURCE</th>\n",
       "      <th></th>\n",
       "    </tr>\n",
       "  </thead>\n",
       "  <tbody>\n",
       "    <tr>\n",
       "      <th>android</th>\n",
       "      <td>34.174849</td>\n",
       "    </tr>\n",
       "    <tr>\n",
       "      <th>ios</th>\n",
       "      <td>34.069102</td>\n",
       "    </tr>\n",
       "  </tbody>\n",
       "</table>\n",
       "</div>"
      ],
      "text/plain": [
       "             PRICE\n",
       "SOURCE            \n",
       "android  34.174849\n",
       "ios      34.069102"
      ]
     },
     "execution_count": 82,
     "metadata": {},
     "output_type": "execute_result"
    }
   ],
   "source": [
    "df.groupby('SOURCE').agg({'PRICE':'mean'})"
   ]
  },
  {
   "cell_type": "code",
   "execution_count": 83,
   "metadata": {},
   "outputs": [
    {
     "data": {
      "text/plain": [
       "SOURCE\n",
       "android    34.174849\n",
       "ios        34.069102\n",
       "Name: PRICE, dtype: float64"
      ]
     },
     "execution_count": 83,
     "metadata": {},
     "output_type": "execute_result"
    }
   ],
   "source": [
    "df.groupby('SOURCE')['PRICE'].mean()"
   ]
  },
  {
   "cell_type": "code",
   "execution_count": 84,
   "metadata": {},
   "outputs": [
    {
     "data": {
      "text/html": [
       "<div>\n",
       "<style scoped>\n",
       "    .dataframe tbody tr th:only-of-type {\n",
       "        vertical-align: middle;\n",
       "    }\n",
       "\n",
       "    .dataframe tbody tr th {\n",
       "        vertical-align: top;\n",
       "    }\n",
       "\n",
       "    .dataframe thead th {\n",
       "        text-align: right;\n",
       "    }\n",
       "</style>\n",
       "<table border=\"1\" class=\"dataframe\">\n",
       "  <thead>\n",
       "    <tr style=\"text-align: right;\">\n",
       "      <th></th>\n",
       "      <th>PRICE</th>\n",
       "    </tr>\n",
       "    <tr>\n",
       "      <th>SOURCE</th>\n",
       "      <th></th>\n",
       "    </tr>\n",
       "  </thead>\n",
       "  <tbody>\n",
       "    <tr>\n",
       "      <th>android</th>\n",
       "      <td>34.174849</td>\n",
       "    </tr>\n",
       "    <tr>\n",
       "      <th>ios</th>\n",
       "      <td>34.069102</td>\n",
       "    </tr>\n",
       "  </tbody>\n",
       "</table>\n",
       "</div>"
      ],
      "text/plain": [
       "             PRICE\n",
       "SOURCE            \n",
       "android  34.174849\n",
       "ios      34.069102"
      ]
     },
     "execution_count": 84,
     "metadata": {},
     "output_type": "execute_result"
    }
   ],
   "source": [
    "df.pivot_table(values='PRICE',index='SOURCE',aggfunc='mean')"
   ]
  },
  {
   "cell_type": "code",
   "execution_count": 85,
   "metadata": {},
   "outputs": [],
   "source": [
    "# COUNTRY-SOURCE kırılımında PRICE ortalamaları nedir?"
   ]
  },
  {
   "cell_type": "code",
   "execution_count": 86,
   "metadata": {},
   "outputs": [
    {
     "data": {
      "text/html": [
       "<div>\n",
       "<style scoped>\n",
       "    .dataframe tbody tr th:only-of-type {\n",
       "        vertical-align: middle;\n",
       "    }\n",
       "\n",
       "    .dataframe tbody tr th {\n",
       "        vertical-align: top;\n",
       "    }\n",
       "\n",
       "    .dataframe thead th {\n",
       "        text-align: right;\n",
       "    }\n",
       "</style>\n",
       "<table border=\"1\" class=\"dataframe\">\n",
       "  <thead>\n",
       "    <tr style=\"text-align: right;\">\n",
       "      <th></th>\n",
       "      <th></th>\n",
       "      <th>PRICE</th>\n",
       "    </tr>\n",
       "    <tr>\n",
       "      <th>COUNTRY</th>\n",
       "      <th>SOURCE</th>\n",
       "      <th></th>\n",
       "    </tr>\n",
       "  </thead>\n",
       "  <tbody>\n",
       "    <tr>\n",
       "      <th rowspan=\"2\" valign=\"top\">bra</th>\n",
       "      <th>android</th>\n",
       "      <td>34.387029</td>\n",
       "    </tr>\n",
       "    <tr>\n",
       "      <th>ios</th>\n",
       "      <td>34.222222</td>\n",
       "    </tr>\n",
       "    <tr>\n",
       "      <th rowspan=\"2\" valign=\"top\">can</th>\n",
       "      <th>android</th>\n",
       "      <td>33.330709</td>\n",
       "    </tr>\n",
       "    <tr>\n",
       "      <th>ios</th>\n",
       "      <td>33.951456</td>\n",
       "    </tr>\n",
       "    <tr>\n",
       "      <th rowspan=\"2\" valign=\"top\">deu</th>\n",
       "      <th>android</th>\n",
       "      <td>33.869888</td>\n",
       "    </tr>\n",
       "    <tr>\n",
       "      <th>ios</th>\n",
       "      <td>34.268817</td>\n",
       "    </tr>\n",
       "    <tr>\n",
       "      <th rowspan=\"2\" valign=\"top\">fra</th>\n",
       "      <th>android</th>\n",
       "      <td>34.312500</td>\n",
       "    </tr>\n",
       "    <tr>\n",
       "      <th>ios</th>\n",
       "      <td>32.776224</td>\n",
       "    </tr>\n",
       "    <tr>\n",
       "      <th rowspan=\"2\" valign=\"top\">tur</th>\n",
       "      <th>android</th>\n",
       "      <td>36.229437</td>\n",
       "    </tr>\n",
       "    <tr>\n",
       "      <th>ios</th>\n",
       "      <td>33.272727</td>\n",
       "    </tr>\n",
       "    <tr>\n",
       "      <th rowspan=\"2\" valign=\"top\">usa</th>\n",
       "      <th>android</th>\n",
       "      <td>33.760357</td>\n",
       "    </tr>\n",
       "    <tr>\n",
       "      <th>ios</th>\n",
       "      <td>34.371703</td>\n",
       "    </tr>\n",
       "  </tbody>\n",
       "</table>\n",
       "</div>"
      ],
      "text/plain": [
       "                     PRICE\n",
       "COUNTRY SOURCE            \n",
       "bra     android  34.387029\n",
       "        ios      34.222222\n",
       "can     android  33.330709\n",
       "        ios      33.951456\n",
       "deu     android  33.869888\n",
       "        ios      34.268817\n",
       "fra     android  34.312500\n",
       "        ios      32.776224\n",
       "tur     android  36.229437\n",
       "        ios      33.272727\n",
       "usa     android  33.760357\n",
       "        ios      34.371703"
      ]
     },
     "execution_count": 86,
     "metadata": {},
     "output_type": "execute_result"
    }
   ],
   "source": [
    "df.groupby(['COUNTRY','SOURCE']).agg({'PRICE':'mean'})"
   ]
  },
  {
   "cell_type": "code",
   "execution_count": 87,
   "metadata": {},
   "outputs": [],
   "source": [
    "###### Görev 2: COUNTRY, SOURCE, SEX, AGE kırılımında ortalama kazançlar nedir?"
   ]
  },
  {
   "cell_type": "code",
   "execution_count": 88,
   "metadata": {},
   "outputs": [
    {
     "data": {
      "text/html": [
       "<div>\n",
       "<style scoped>\n",
       "    .dataframe tbody tr th:only-of-type {\n",
       "        vertical-align: middle;\n",
       "    }\n",
       "\n",
       "    .dataframe tbody tr th {\n",
       "        vertical-align: top;\n",
       "    }\n",
       "\n",
       "    .dataframe thead th {\n",
       "        text-align: right;\n",
       "    }\n",
       "</style>\n",
       "<table border=\"1\" class=\"dataframe\">\n",
       "  <thead>\n",
       "    <tr style=\"text-align: right;\">\n",
       "      <th></th>\n",
       "      <th></th>\n",
       "      <th></th>\n",
       "      <th></th>\n",
       "      <th>PRICE</th>\n",
       "    </tr>\n",
       "    <tr>\n",
       "      <th>COUNTRY</th>\n",
       "      <th>SOURCE</th>\n",
       "      <th>SEX</th>\n",
       "      <th>AGE</th>\n",
       "      <th></th>\n",
       "    </tr>\n",
       "  </thead>\n",
       "  <tbody>\n",
       "    <tr>\n",
       "      <th rowspan=\"5\" valign=\"top\">bra</th>\n",
       "      <th rowspan=\"5\" valign=\"top\">android</th>\n",
       "      <th rowspan=\"5\" valign=\"top\">female</th>\n",
       "      <th>15</th>\n",
       "      <td>38.714286</td>\n",
       "    </tr>\n",
       "    <tr>\n",
       "      <th>16</th>\n",
       "      <td>35.944444</td>\n",
       "    </tr>\n",
       "    <tr>\n",
       "      <th>17</th>\n",
       "      <td>35.666667</td>\n",
       "    </tr>\n",
       "    <tr>\n",
       "      <th>18</th>\n",
       "      <td>32.255814</td>\n",
       "    </tr>\n",
       "    <tr>\n",
       "      <th>19</th>\n",
       "      <td>35.206897</td>\n",
       "    </tr>\n",
       "  </tbody>\n",
       "</table>\n",
       "</div>"
      ],
      "text/plain": [
       "                                PRICE\n",
       "COUNTRY SOURCE  SEX    AGE           \n",
       "bra     android female 15   38.714286\n",
       "                       16   35.944444\n",
       "                       17   35.666667\n",
       "                       18   32.255814\n",
       "                       19   35.206897"
      ]
     },
     "execution_count": 88,
     "metadata": {},
     "output_type": "execute_result"
    }
   ],
   "source": [
    "df.groupby(['COUNTRY', 'SOURCE', 'SEX','AGE']).agg({'PRICE': 'mean'}).head()"
   ]
  },
  {
   "cell_type": "code",
   "execution_count": 89,
   "metadata": {},
   "outputs": [],
   "source": [
    "##### Görev 3: Çıktıyı PRICE’a göre sıralayınız."
   ]
  },
  {
   "cell_type": "code",
   "execution_count": 90,
   "metadata": {},
   "outputs": [
    {
     "data": {
      "text/html": [
       "<div>\n",
       "<style scoped>\n",
       "    .dataframe tbody tr th:only-of-type {\n",
       "        vertical-align: middle;\n",
       "    }\n",
       "\n",
       "    .dataframe tbody tr th {\n",
       "        vertical-align: top;\n",
       "    }\n",
       "\n",
       "    .dataframe thead th {\n",
       "        text-align: right;\n",
       "    }\n",
       "</style>\n",
       "<table border=\"1\" class=\"dataframe\">\n",
       "  <thead>\n",
       "    <tr style=\"text-align: right;\">\n",
       "      <th></th>\n",
       "      <th></th>\n",
       "      <th></th>\n",
       "      <th></th>\n",
       "      <th>PRICE</th>\n",
       "    </tr>\n",
       "    <tr>\n",
       "      <th>COUNTRY</th>\n",
       "      <th>SOURCE</th>\n",
       "      <th>SEX</th>\n",
       "      <th>AGE</th>\n",
       "      <th></th>\n",
       "    </tr>\n",
       "  </thead>\n",
       "  <tbody>\n",
       "    <tr>\n",
       "      <th>bra</th>\n",
       "      <th>android</th>\n",
       "      <th>male</th>\n",
       "      <th>46</th>\n",
       "      <td>59.0</td>\n",
       "    </tr>\n",
       "    <tr>\n",
       "      <th>usa</th>\n",
       "      <th>android</th>\n",
       "      <th>male</th>\n",
       "      <th>36</th>\n",
       "      <td>59.0</td>\n",
       "    </tr>\n",
       "    <tr>\n",
       "      <th>fra</th>\n",
       "      <th>android</th>\n",
       "      <th>female</th>\n",
       "      <th>24</th>\n",
       "      <td>59.0</td>\n",
       "    </tr>\n",
       "    <tr>\n",
       "      <th>usa</th>\n",
       "      <th>ios</th>\n",
       "      <th>male</th>\n",
       "      <th>32</th>\n",
       "      <td>54.0</td>\n",
       "    </tr>\n",
       "    <tr>\n",
       "      <th>deu</th>\n",
       "      <th>android</th>\n",
       "      <th>female</th>\n",
       "      <th>36</th>\n",
       "      <td>49.0</td>\n",
       "    </tr>\n",
       "  </tbody>\n",
       "</table>\n",
       "</div>"
      ],
      "text/plain": [
       "                            PRICE\n",
       "COUNTRY SOURCE  SEX    AGE       \n",
       "bra     android male   46    59.0\n",
       "usa     android male   36    59.0\n",
       "fra     android female 24    59.0\n",
       "usa     ios     male   32    54.0\n",
       "deu     android female 36    49.0"
      ]
     },
     "execution_count": 90,
     "metadata": {},
     "output_type": "execute_result"
    }
   ],
   "source": [
    "agg_df = df.groupby(['COUNTRY', 'SOURCE', 'SEX','AGE']).agg({'PRICE': 'mean'}).sort_values(\"PRICE\", ascending = False)\n",
    "agg_df.head()"
   ]
  },
  {
   "cell_type": "code",
   "execution_count": 91,
   "metadata": {},
   "outputs": [],
   "source": [
    "##### Görev 4: Üçüncü sorunun çıktısında yer alan PRICE dışındaki tüm değişkenler index isimleridir. Bu isimleri değişken isimlerine çeviriniz."
   ]
  },
  {
   "cell_type": "code",
   "execution_count": null,
   "metadata": {},
   "outputs": [],
   "source": []
  },
  {
   "cell_type": "code",
   "execution_count": 92,
   "metadata": {},
   "outputs": [],
   "source": [
    "agg_df['COUNTRY']=agg_df.index"
   ]
  },
  {
   "cell_type": "code",
   "execution_count": 93,
   "metadata": {},
   "outputs": [
    {
     "data": {
      "text/html": [
       "<div>\n",
       "<style scoped>\n",
       "    .dataframe tbody tr th:only-of-type {\n",
       "        vertical-align: middle;\n",
       "    }\n",
       "\n",
       "    .dataframe tbody tr th {\n",
       "        vertical-align: top;\n",
       "    }\n",
       "\n",
       "    .dataframe thead th {\n",
       "        text-align: right;\n",
       "    }\n",
       "</style>\n",
       "<table border=\"1\" class=\"dataframe\">\n",
       "  <thead>\n",
       "    <tr style=\"text-align: right;\">\n",
       "      <th></th>\n",
       "      <th></th>\n",
       "      <th></th>\n",
       "      <th></th>\n",
       "      <th>PRICE</th>\n",
       "      <th>COUNTRY</th>\n",
       "    </tr>\n",
       "    <tr>\n",
       "      <th>COUNTRY</th>\n",
       "      <th>SOURCE</th>\n",
       "      <th>SEX</th>\n",
       "      <th>AGE</th>\n",
       "      <th></th>\n",
       "      <th></th>\n",
       "    </tr>\n",
       "  </thead>\n",
       "  <tbody>\n",
       "    <tr>\n",
       "      <th>bra</th>\n",
       "      <th>android</th>\n",
       "      <th>male</th>\n",
       "      <th>46</th>\n",
       "      <td>59.0</td>\n",
       "      <td>(bra, android, male, 46)</td>\n",
       "    </tr>\n",
       "    <tr>\n",
       "      <th>usa</th>\n",
       "      <th>android</th>\n",
       "      <th>male</th>\n",
       "      <th>36</th>\n",
       "      <td>59.0</td>\n",
       "      <td>(usa, android, male, 36)</td>\n",
       "    </tr>\n",
       "    <tr>\n",
       "      <th>fra</th>\n",
       "      <th>android</th>\n",
       "      <th>female</th>\n",
       "      <th>24</th>\n",
       "      <td>59.0</td>\n",
       "      <td>(fra, android, female, 24)</td>\n",
       "    </tr>\n",
       "    <tr>\n",
       "      <th>usa</th>\n",
       "      <th>ios</th>\n",
       "      <th>male</th>\n",
       "      <th>32</th>\n",
       "      <td>54.0</td>\n",
       "      <td>(usa, ios, male, 32)</td>\n",
       "    </tr>\n",
       "    <tr>\n",
       "      <th>deu</th>\n",
       "      <th>android</th>\n",
       "      <th>female</th>\n",
       "      <th>36</th>\n",
       "      <td>49.0</td>\n",
       "      <td>(deu, android, female, 36)</td>\n",
       "    </tr>\n",
       "  </tbody>\n",
       "</table>\n",
       "</div>"
      ],
      "text/plain": [
       "                            PRICE                     COUNTRY\n",
       "COUNTRY SOURCE  SEX    AGE                                   \n",
       "bra     android male   46    59.0    (bra, android, male, 46)\n",
       "usa     android male   36    59.0    (usa, android, male, 36)\n",
       "fra     android female 24    59.0  (fra, android, female, 24)\n",
       "usa     ios     male   32    54.0        (usa, ios, male, 32)\n",
       "deu     android female 36    49.0  (deu, android, female, 36)"
      ]
     },
     "execution_count": 93,
     "metadata": {},
     "output_type": "execute_result"
    }
   ],
   "source": [
    "agg_df.head()"
   ]
  },
  {
   "cell_type": "code",
   "execution_count": 94,
   "metadata": {},
   "outputs": [],
   "source": [
    "agg_df.drop('COUNTRY',axis=1,inplace=True)\n"
   ]
  },
  {
   "cell_type": "code",
   "execution_count": 95,
   "metadata": {},
   "outputs": [],
   "source": [
    "agg_df=agg_df.reset_index()"
   ]
  },
  {
   "cell_type": "code",
   "execution_count": 96,
   "metadata": {},
   "outputs": [],
   "source": [
    "# Görev 5: Age değişkenini kategorik değişkene çeviriniz ve agg_df’e ekleyiniz"
   ]
  },
  {
   "cell_type": "code",
   "execution_count": 97,
   "metadata": {},
   "outputs": [],
   "source": [
    "age_bins = [0,18,23,30,40,70]\n",
    "age_labels = ['0_18', '19_23', '24_30', '31_40', '41_70']"
   ]
  },
  {
   "cell_type": "code",
   "execution_count": 98,
   "metadata": {},
   "outputs": [],
   "source": [
    "agg_df['AGE_CAT']=pd.cut(agg_df['AGE'],bins=age_bins,labels=age_labels)"
   ]
  },
  {
   "cell_type": "code",
   "execution_count": 99,
   "metadata": {},
   "outputs": [
    {
     "data": {
      "text/html": [
       "<div>\n",
       "<style scoped>\n",
       "    .dataframe tbody tr th:only-of-type {\n",
       "        vertical-align: middle;\n",
       "    }\n",
       "\n",
       "    .dataframe tbody tr th {\n",
       "        vertical-align: top;\n",
       "    }\n",
       "\n",
       "    .dataframe thead th {\n",
       "        text-align: right;\n",
       "    }\n",
       "</style>\n",
       "<table border=\"1\" class=\"dataframe\">\n",
       "  <thead>\n",
       "    <tr style=\"text-align: right;\">\n",
       "      <th></th>\n",
       "      <th>COUNTRY</th>\n",
       "      <th>SOURCE</th>\n",
       "      <th>SEX</th>\n",
       "      <th>AGE</th>\n",
       "      <th>PRICE</th>\n",
       "      <th>AGE_CAT</th>\n",
       "    </tr>\n",
       "  </thead>\n",
       "  <tbody>\n",
       "    <tr>\n",
       "      <th>0</th>\n",
       "      <td>bra</td>\n",
       "      <td>android</td>\n",
       "      <td>male</td>\n",
       "      <td>46</td>\n",
       "      <td>59.0</td>\n",
       "      <td>41_70</td>\n",
       "    </tr>\n",
       "    <tr>\n",
       "      <th>1</th>\n",
       "      <td>usa</td>\n",
       "      <td>android</td>\n",
       "      <td>male</td>\n",
       "      <td>36</td>\n",
       "      <td>59.0</td>\n",
       "      <td>31_40</td>\n",
       "    </tr>\n",
       "    <tr>\n",
       "      <th>2</th>\n",
       "      <td>fra</td>\n",
       "      <td>android</td>\n",
       "      <td>female</td>\n",
       "      <td>24</td>\n",
       "      <td>59.0</td>\n",
       "      <td>24_30</td>\n",
       "    </tr>\n",
       "    <tr>\n",
       "      <th>3</th>\n",
       "      <td>usa</td>\n",
       "      <td>ios</td>\n",
       "      <td>male</td>\n",
       "      <td>32</td>\n",
       "      <td>54.0</td>\n",
       "      <td>31_40</td>\n",
       "    </tr>\n",
       "    <tr>\n",
       "      <th>4</th>\n",
       "      <td>deu</td>\n",
       "      <td>android</td>\n",
       "      <td>female</td>\n",
       "      <td>36</td>\n",
       "      <td>49.0</td>\n",
       "      <td>31_40</td>\n",
       "    </tr>\n",
       "  </tbody>\n",
       "</table>\n",
       "</div>"
      ],
      "text/plain": [
       "  COUNTRY   SOURCE     SEX  AGE  PRICE AGE_CAT\n",
       "0     bra  android    male   46   59.0   41_70\n",
       "1     usa  android    male   36   59.0   31_40\n",
       "2     fra  android  female   24   59.0   24_30\n",
       "3     usa      ios    male   32   54.0   31_40\n",
       "4     deu  android  female   36   49.0   31_40"
      ]
     },
     "execution_count": 99,
     "metadata": {},
     "output_type": "execute_result"
    }
   ],
   "source": [
    "agg_df.head()"
   ]
  },
  {
   "cell_type": "code",
   "execution_count": 100,
   "metadata": {},
   "outputs": [
    {
     "data": {
      "text/plain": [
       "COUNTRY      6\n",
       "SOURCE       2\n",
       "SEX          2\n",
       "AGE         46\n",
       "PRICE      154\n",
       "AGE_CAT      5\n",
       "dtype: int64"
      ]
     },
     "execution_count": 100,
     "metadata": {},
     "output_type": "execute_result"
    }
   ],
   "source": [
    "agg_df.nunique()"
   ]
  },
  {
   "cell_type": "code",
   "execution_count": 101,
   "metadata": {},
   "outputs": [],
   "source": [
    "#Görev 6 : Yeni seviye tabanlı müşterileri (persona) tanımlayınız."
   ]
  },
  {
   "cell_type": "code",
   "execution_count": 102,
   "metadata": {},
   "outputs": [],
   "source": [
    "agg_df[\"customers_level_based\"] = (agg_df[\"COUNTRY\"].astype(str)+\"_\" + agg_df[\"SOURCE\"].astype(str)+\"_\" + agg_df[\"SEX\"].astype(str) + \"_\" + agg_df[\"AGE\"].astype(str) + \"_\" + agg_df[\"AGE_CAT\"].astype(str)).str.upper()"
   ]
  },
  {
   "cell_type": "code",
   "execution_count": 103,
   "metadata": {},
   "outputs": [
    {
     "data": {
      "text/plain": [
       "customers_level_based\n",
       "BRA_ANDROID_FEMALE_15_0_18     38.714286\n",
       "BRA_ANDROID_FEMALE_16_0_18     35.944444\n",
       "BRA_ANDROID_FEMALE_17_0_18     35.666667\n",
       "BRA_ANDROID_FEMALE_18_0_18     32.255814\n",
       "BRA_ANDROID_FEMALE_19_19_23    35.206897\n",
       "                                 ...    \n",
       "USA_IOS_MALE_42_41_70          30.250000\n",
       "USA_IOS_MALE_50_41_70          39.000000\n",
       "USA_IOS_MALE_53_41_70          34.000000\n",
       "USA_IOS_MALE_55_41_70          29.000000\n",
       "USA_IOS_MALE_59_41_70          46.500000\n",
       "Name: PRICE, Length: 348, dtype: float64"
      ]
     },
     "execution_count": 103,
     "metadata": {},
     "output_type": "execute_result"
    }
   ],
   "source": [
    "agg_df.groupby(['customers_level_based'])['PRICE'].mean()"
   ]
  },
  {
   "cell_type": "code",
   "execution_count": 104,
   "metadata": {},
   "outputs": [
    {
     "data": {
      "text/html": [
       "<div>\n",
       "<style scoped>\n",
       "    .dataframe tbody tr th:only-of-type {\n",
       "        vertical-align: middle;\n",
       "    }\n",
       "\n",
       "    .dataframe tbody tr th {\n",
       "        vertical-align: top;\n",
       "    }\n",
       "\n",
       "    .dataframe thead th {\n",
       "        text-align: right;\n",
       "    }\n",
       "</style>\n",
       "<table border=\"1\" class=\"dataframe\">\n",
       "  <thead>\n",
       "    <tr style=\"text-align: right;\">\n",
       "      <th></th>\n",
       "      <th>COUNTRY</th>\n",
       "      <th>SOURCE</th>\n",
       "      <th>SEX</th>\n",
       "      <th>AGE</th>\n",
       "      <th>PRICE</th>\n",
       "      <th>AGE_CAT</th>\n",
       "      <th>customers_level_based</th>\n",
       "    </tr>\n",
       "  </thead>\n",
       "  <tbody>\n",
       "    <tr>\n",
       "      <th>0</th>\n",
       "      <td>bra</td>\n",
       "      <td>android</td>\n",
       "      <td>male</td>\n",
       "      <td>46</td>\n",
       "      <td>59.0</td>\n",
       "      <td>41_70</td>\n",
       "      <td>BRA_ANDROID_MALE_46_41_70</td>\n",
       "    </tr>\n",
       "    <tr>\n",
       "      <th>1</th>\n",
       "      <td>usa</td>\n",
       "      <td>android</td>\n",
       "      <td>male</td>\n",
       "      <td>36</td>\n",
       "      <td>59.0</td>\n",
       "      <td>31_40</td>\n",
       "      <td>USA_ANDROID_MALE_36_31_40</td>\n",
       "    </tr>\n",
       "    <tr>\n",
       "      <th>2</th>\n",
       "      <td>fra</td>\n",
       "      <td>android</td>\n",
       "      <td>female</td>\n",
       "      <td>24</td>\n",
       "      <td>59.0</td>\n",
       "      <td>24_30</td>\n",
       "      <td>FRA_ANDROID_FEMALE_24_24_30</td>\n",
       "    </tr>\n",
       "    <tr>\n",
       "      <th>3</th>\n",
       "      <td>usa</td>\n",
       "      <td>ios</td>\n",
       "      <td>male</td>\n",
       "      <td>32</td>\n",
       "      <td>54.0</td>\n",
       "      <td>31_40</td>\n",
       "      <td>USA_IOS_MALE_32_31_40</td>\n",
       "    </tr>\n",
       "    <tr>\n",
       "      <th>4</th>\n",
       "      <td>deu</td>\n",
       "      <td>android</td>\n",
       "      <td>female</td>\n",
       "      <td>36</td>\n",
       "      <td>49.0</td>\n",
       "      <td>31_40</td>\n",
       "      <td>DEU_ANDROID_FEMALE_36_31_40</td>\n",
       "    </tr>\n",
       "  </tbody>\n",
       "</table>\n",
       "</div>"
      ],
      "text/plain": [
       "  COUNTRY   SOURCE     SEX  AGE  PRICE AGE_CAT        customers_level_based\n",
       "0     bra  android    male   46   59.0   41_70    BRA_ANDROID_MALE_46_41_70\n",
       "1     usa  android    male   36   59.0   31_40    USA_ANDROID_MALE_36_31_40\n",
       "2     fra  android  female   24   59.0   24_30  FRA_ANDROID_FEMALE_24_24_30\n",
       "3     usa      ios    male   32   54.0   31_40        USA_IOS_MALE_32_31_40\n",
       "4     deu  android  female   36   49.0   31_40  DEU_ANDROID_FEMALE_36_31_40"
      ]
     },
     "execution_count": 104,
     "metadata": {},
     "output_type": "execute_result"
    }
   ],
   "source": [
    "agg_df.head()"
   ]
  },
  {
   "cell_type": "code",
   "execution_count": null,
   "metadata": {},
   "outputs": [],
   "source": [
    "#görev 7 Yeni müşterileri (Örnek: USA_ANDROID_MALE_0_18) PRICE’a göre 4 segmente ayırınız"
   ]
  },
  {
   "cell_type": "code",
   "execution_count": 105,
   "metadata": {},
   "outputs": [],
   "source": [
    "agg_df['SEGMENT']=pd.qcut(agg_df['PRICE'],4,labels=[\"D\", \"C\", \"B\", \"A\"])"
   ]
  },
  {
   "cell_type": "code",
   "execution_count": 106,
   "metadata": {},
   "outputs": [
    {
     "data": {
      "text/html": [
       "<div>\n",
       "<style scoped>\n",
       "    .dataframe tbody tr th:only-of-type {\n",
       "        vertical-align: middle;\n",
       "    }\n",
       "\n",
       "    .dataframe tbody tr th {\n",
       "        vertical-align: top;\n",
       "    }\n",
       "\n",
       "    .dataframe thead th {\n",
       "        text-align: right;\n",
       "    }\n",
       "</style>\n",
       "<table border=\"1\" class=\"dataframe\">\n",
       "  <thead>\n",
       "    <tr style=\"text-align: right;\">\n",
       "      <th></th>\n",
       "      <th>COUNTRY</th>\n",
       "      <th>SOURCE</th>\n",
       "      <th>SEX</th>\n",
       "      <th>AGE</th>\n",
       "      <th>PRICE</th>\n",
       "      <th>AGE_CAT</th>\n",
       "      <th>customers_level_based</th>\n",
       "      <th>SEGMENT</th>\n",
       "    </tr>\n",
       "  </thead>\n",
       "  <tbody>\n",
       "    <tr>\n",
       "      <th>0</th>\n",
       "      <td>bra</td>\n",
       "      <td>android</td>\n",
       "      <td>male</td>\n",
       "      <td>46</td>\n",
       "      <td>59.0</td>\n",
       "      <td>41_70</td>\n",
       "      <td>BRA_ANDROID_MALE_46_41_70</td>\n",
       "      <td>A</td>\n",
       "    </tr>\n",
       "    <tr>\n",
       "      <th>1</th>\n",
       "      <td>usa</td>\n",
       "      <td>android</td>\n",
       "      <td>male</td>\n",
       "      <td>36</td>\n",
       "      <td>59.0</td>\n",
       "      <td>31_40</td>\n",
       "      <td>USA_ANDROID_MALE_36_31_40</td>\n",
       "      <td>A</td>\n",
       "    </tr>\n",
       "    <tr>\n",
       "      <th>2</th>\n",
       "      <td>fra</td>\n",
       "      <td>android</td>\n",
       "      <td>female</td>\n",
       "      <td>24</td>\n",
       "      <td>59.0</td>\n",
       "      <td>24_30</td>\n",
       "      <td>FRA_ANDROID_FEMALE_24_24_30</td>\n",
       "      <td>A</td>\n",
       "    </tr>\n",
       "    <tr>\n",
       "      <th>3</th>\n",
       "      <td>usa</td>\n",
       "      <td>ios</td>\n",
       "      <td>male</td>\n",
       "      <td>32</td>\n",
       "      <td>54.0</td>\n",
       "      <td>31_40</td>\n",
       "      <td>USA_IOS_MALE_32_31_40</td>\n",
       "      <td>A</td>\n",
       "    </tr>\n",
       "    <tr>\n",
       "      <th>4</th>\n",
       "      <td>deu</td>\n",
       "      <td>android</td>\n",
       "      <td>female</td>\n",
       "      <td>36</td>\n",
       "      <td>49.0</td>\n",
       "      <td>31_40</td>\n",
       "      <td>DEU_ANDROID_FEMALE_36_31_40</td>\n",
       "      <td>A</td>\n",
       "    </tr>\n",
       "  </tbody>\n",
       "</table>\n",
       "</div>"
      ],
      "text/plain": [
       "  COUNTRY   SOURCE     SEX  AGE  PRICE AGE_CAT        customers_level_based  \\\n",
       "0     bra  android    male   46   59.0   41_70    BRA_ANDROID_MALE_46_41_70   \n",
       "1     usa  android    male   36   59.0   31_40    USA_ANDROID_MALE_36_31_40   \n",
       "2     fra  android  female   24   59.0   24_30  FRA_ANDROID_FEMALE_24_24_30   \n",
       "3     usa      ios    male   32   54.0   31_40        USA_IOS_MALE_32_31_40   \n",
       "4     deu  android  female   36   49.0   31_40  DEU_ANDROID_FEMALE_36_31_40   \n",
       "\n",
       "  SEGMENT  \n",
       "0       A  \n",
       "1       A  \n",
       "2       A  \n",
       "3       A  \n",
       "4       A  "
      ]
     },
     "execution_count": 106,
     "metadata": {},
     "output_type": "execute_result"
    }
   ],
   "source": [
    "agg_df.head()"
   ]
  },
  {
   "cell_type": "code",
   "execution_count": 107,
   "metadata": {},
   "outputs": [
    {
     "name": "stderr",
     "output_type": "stream",
     "text": [
      "C:\\Users\\xxxx\\AppData\\Local\\Temp\\ipykernel_23780\\2640224692.py:1: FutureWarning: The default of observed=False is deprecated and will be changed to True in a future version of pandas. Pass observed=False to retain current behavior or observed=True to adopt the future default and silence this warning.\n",
      "  segment_sum = agg_df.groupby(\"SEGMENT\").agg(\n"
     ]
    },
    {
     "data": {
      "text/html": [
       "<div>\n",
       "<style scoped>\n",
       "    .dataframe tbody tr th:only-of-type {\n",
       "        vertical-align: middle;\n",
       "    }\n",
       "\n",
       "    .dataframe tbody tr th {\n",
       "        vertical-align: top;\n",
       "    }\n",
       "\n",
       "    .dataframe thead th {\n",
       "        text-align: right;\n",
       "    }\n",
       "</style>\n",
       "<table border=\"1\" class=\"dataframe\">\n",
       "  <thead>\n",
       "    <tr style=\"text-align: right;\">\n",
       "      <th></th>\n",
       "      <th>COUNTRY</th>\n",
       "      <th>SOURCE</th>\n",
       "      <th>SEX</th>\n",
       "      <th>AGE</th>\n",
       "      <th>PRICE</th>\n",
       "      <th>AGE_CAT</th>\n",
       "      <th>customers_level_based</th>\n",
       "      <th>SEGMENT</th>\n",
       "    </tr>\n",
       "  </thead>\n",
       "  <tbody>\n",
       "    <tr>\n",
       "      <th>0</th>\n",
       "      <td>bra</td>\n",
       "      <td>android</td>\n",
       "      <td>male</td>\n",
       "      <td>46</td>\n",
       "      <td>59.0</td>\n",
       "      <td>41_70</td>\n",
       "      <td>BRA_ANDROID_MALE_46_41_70</td>\n",
       "      <td>A</td>\n",
       "    </tr>\n",
       "    <tr>\n",
       "      <th>1</th>\n",
       "      <td>usa</td>\n",
       "      <td>android</td>\n",
       "      <td>male</td>\n",
       "      <td>36</td>\n",
       "      <td>59.0</td>\n",
       "      <td>31_40</td>\n",
       "      <td>USA_ANDROID_MALE_36_31_40</td>\n",
       "      <td>A</td>\n",
       "    </tr>\n",
       "    <tr>\n",
       "      <th>2</th>\n",
       "      <td>fra</td>\n",
       "      <td>android</td>\n",
       "      <td>female</td>\n",
       "      <td>24</td>\n",
       "      <td>59.0</td>\n",
       "      <td>24_30</td>\n",
       "      <td>FRA_ANDROID_FEMALE_24_24_30</td>\n",
       "      <td>A</td>\n",
       "    </tr>\n",
       "    <tr>\n",
       "      <th>3</th>\n",
       "      <td>usa</td>\n",
       "      <td>ios</td>\n",
       "      <td>male</td>\n",
       "      <td>32</td>\n",
       "      <td>54.0</td>\n",
       "      <td>31_40</td>\n",
       "      <td>USA_IOS_MALE_32_31_40</td>\n",
       "      <td>A</td>\n",
       "    </tr>\n",
       "    <tr>\n",
       "      <th>4</th>\n",
       "      <td>deu</td>\n",
       "      <td>android</td>\n",
       "      <td>female</td>\n",
       "      <td>36</td>\n",
       "      <td>49.0</td>\n",
       "      <td>31_40</td>\n",
       "      <td>DEU_ANDROID_FEMALE_36_31_40</td>\n",
       "      <td>A</td>\n",
       "    </tr>\n",
       "  </tbody>\n",
       "</table>\n",
       "</div>"
      ],
      "text/plain": [
       "  COUNTRY   SOURCE     SEX  AGE  PRICE AGE_CAT        customers_level_based  \\\n",
       "0     bra  android    male   46   59.0   41_70    BRA_ANDROID_MALE_46_41_70   \n",
       "1     usa  android    male   36   59.0   31_40    USA_ANDROID_MALE_36_31_40   \n",
       "2     fra  android  female   24   59.0   24_30  FRA_ANDROID_FEMALE_24_24_30   \n",
       "3     usa      ios    male   32   54.0   31_40        USA_IOS_MALE_32_31_40   \n",
       "4     deu  android  female   36   49.0   31_40  DEU_ANDROID_FEMALE_36_31_40   \n",
       "\n",
       "  SEGMENT  \n",
       "0       A  \n",
       "1       A  \n",
       "2       A  \n",
       "3       A  \n",
       "4       A  "
      ]
     },
     "execution_count": 107,
     "metadata": {},
     "output_type": "execute_result"
    }
   ],
   "source": [
    "segment_sum = agg_df.groupby(\"SEGMENT\").agg(\n",
    "    price_mean=(\"PRICE\", \"mean\"),\n",
    "    price_max=(\"PRICE\", \"max\"),\n",
    "    price_sum=(\"PRICE\", \"sum\"))\n",
    "agg_df.head()"
   ]
  },
  {
   "cell_type": "code",
   "execution_count": 108,
   "metadata": {},
   "outputs": [],
   "source": [
    "# Görev 8:  Yeni gelen müşterileri sınıflandırıp, ne kadar gelir getirebileceklerini  tahmin ediniz"
   ]
  },
  {
   "cell_type": "code",
   "execution_count": 111,
   "metadata": {},
   "outputs": [
    {
     "name": "stderr",
     "output_type": "stream",
     "text": [
      "C:\\Users\\xxxx\\AppData\\Local\\Temp\\ipykernel_23780\\238154130.py:3: FutureWarning: The default of observed=False is deprecated and will be changed to True in a future version of pandas. Pass observed=False to retain current behavior or observed=True to adopt the future default and silence this warning.\n",
      "  agg_df.groupby(\"SEGMENT\").agg({\"PRICE\": [\"mean\",\"max\",\"sum\"]})\n"
     ]
    },
    {
     "data": {
      "text/html": [
       "<div>\n",
       "<style scoped>\n",
       "    .dataframe tbody tr th:only-of-type {\n",
       "        vertical-align: middle;\n",
       "    }\n",
       "\n",
       "    .dataframe tbody tr th {\n",
       "        vertical-align: top;\n",
       "    }\n",
       "\n",
       "    .dataframe thead tr th {\n",
       "        text-align: left;\n",
       "    }\n",
       "\n",
       "    .dataframe thead tr:last-of-type th {\n",
       "        text-align: right;\n",
       "    }\n",
       "</style>\n",
       "<table border=\"1\" class=\"dataframe\">\n",
       "  <thead>\n",
       "    <tr>\n",
       "      <th></th>\n",
       "      <th colspan=\"3\" halign=\"left\">PRICE</th>\n",
       "    </tr>\n",
       "    <tr>\n",
       "      <th></th>\n",
       "      <th>mean</th>\n",
       "      <th>max</th>\n",
       "      <th>sum</th>\n",
       "    </tr>\n",
       "    <tr>\n",
       "      <th>SEGMENT</th>\n",
       "      <th></th>\n",
       "      <th></th>\n",
       "      <th></th>\n",
       "    </tr>\n",
       "  </thead>\n",
       "  <tbody>\n",
       "    <tr>\n",
       "      <th>D</th>\n",
       "      <td>27.302596</td>\n",
       "      <td>31.105263</td>\n",
       "      <td>2375.325850</td>\n",
       "    </tr>\n",
       "    <tr>\n",
       "      <th>C</th>\n",
       "      <td>32.933339</td>\n",
       "      <td>34.000000</td>\n",
       "      <td>3128.667165</td>\n",
       "    </tr>\n",
       "    <tr>\n",
       "      <th>B</th>\n",
       "      <td>35.436170</td>\n",
       "      <td>37.000000</td>\n",
       "      <td>2870.329792</td>\n",
       "    </tr>\n",
       "    <tr>\n",
       "      <th>A</th>\n",
       "      <td>41.434736</td>\n",
       "      <td>59.000000</td>\n",
       "      <td>3521.952577</td>\n",
       "    </tr>\n",
       "  </tbody>\n",
       "</table>\n",
       "</div>"
      ],
      "text/plain": [
       "             PRICE                        \n",
       "              mean        max          sum\n",
       "SEGMENT                                   \n",
       "D        27.302596  31.105263  2375.325850\n",
       "C        32.933339  34.000000  3128.667165\n",
       "B        35.436170  37.000000  2870.329792\n",
       "A        41.434736  59.000000  3521.952577"
      ]
     },
     "execution_count": 111,
     "metadata": {},
     "output_type": "execute_result"
    }
   ],
   "source": [
    "new_user = \"TUR_ANDROID_FEMALE_31_40\"\n",
    "agg_df[agg_df[\"customers_level_based\"] == new_user]\n",
    "agg_df.groupby(\"SEGMENT\").agg({\"PRICE\": [\"mean\",\"max\",\"sum\"]})"
   ]
  }
 ],
 "metadata": {
  "kernelspec": {
   "display_name": "base",
   "language": "python",
   "name": "python3"
  },
  "language_info": {
   "codemirror_mode": {
    "name": "ipython",
    "version": 3
   },
   "file_extension": ".py",
   "mimetype": "text/x-python",
   "name": "python",
   "nbconvert_exporter": "python",
   "pygments_lexer": "ipython3",
   "version": "3.12.4"
  }
 },
 "nbformat": 4,
 "nbformat_minor": 2
}
